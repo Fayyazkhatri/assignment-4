{
 "cells": [
  {
   "cell_type": "code",
   "execution_count": 1,
   "id": "2cde0090",
   "metadata": {},
   "outputs": [
    {
     "name": "stdout",
     "output_type": "stream",
     "text": [
      "Enter the first number: 12\n",
      "Enter the second number: 12\n",
      "Enter the operator you want to perform\n",
      "Enter any of these operator for operation +, -, *, /  +\n",
      "12 + 12 :  24\n"
     ]
    }
   ],
   "source": [
    "\n",
    "num1=int(input(\"Enter the first number: \"))\n",
    "num2=int(input(\"Enter the second number: \"))\n",
    "\n",
    "print(\"Enter the operator you want to perform\");\n",
    "\n",
    "ch=input(\"Enter any of these operator for operation +, -, *, /  \")\n",
    "\n",
    "result=0\n",
    "\n",
    "if ch=='+':\n",
    "    result=num1+num2;\n",
    "elif ch=='-':\n",
    "    result=num1-num2;\n",
    "elif ch=='*':\n",
    "    result=num1*num2;\n",
    "elif ch=='/':\n",
    "    result=num1/num2;\n",
    "else:\n",
    "   print(\"char is not supported\");\n",
    "print(num1,ch,num2,\": \",result)"
   ]
  },
  {
   "cell_type": "code",
   "execution_count": 7,
   "id": "da26dac3",
   "metadata": {},
   "outputs": [
    {
     "name": "stdout",
     "output_type": "stream",
     "text": [
      "2\n"
     ]
    }
   ],
   "source": [
    "list = [ 2 , \"def\", \"abc\" , \"ghi\"] \n",
    "for x in list: \n",
    "    if type(x) == int: \n",
    "        print(x)"
   ]
  },
  {
   "cell_type": "code",
   "execution_count": 29,
   "id": "2d763c48",
   "metadata": {},
   "outputs": [
    {
     "name": "stdout",
     "output_type": "stream",
     "text": [
      "{1: 20, 2: 30, 3: 40}\n"
     ]
    }
   ],
   "source": [
    "list = {1:20 , 2:30}\n",
    "\n",
    "list.update({3:40})\n",
    "\n",
    "print(list);\n"
   ]
  },
  {
   "cell_type": "code",
   "execution_count": 37,
   "id": "a6fe51c8",
   "metadata": {},
   "outputs": [
    {
     "name": "stdout",
     "output_type": "stream",
     "text": [
      "50\n"
     ]
    }
   ],
   "source": [
    "list = {\"a\":20 , \"b\":30}\n",
    "\n",
    "\n",
    "print(sum(list.values()))"
   ]
  },
  {
   "cell_type": "code",
   "execution_count": 38,
   "id": "44c7f9c2",
   "metadata": {},
   "outputs": [
    {
     "name": "stdout",
     "output_type": "stream",
     "text": [
      "Duplicate integeres:  [10, 30, -10, -20]\n"
     ]
    }
   ],
   "source": [
    "\n",
    "\n",
    "def duplicate(li):\n",
    "    n=len(li)\n",
    "    dup=[]\n",
    "    for i in range(n):\n",
    "        k = i + 1\n",
    "        for j in range(k,n):\n",
    "            if li[i] == li[j] and li[i] not in dup:\n",
    "                dup.append(li[i])\n",
    "    return dup\n",
    "\n",
    "\n",
    "li=[ 10, 20, 30, -10, -20, 10, 80, -10, -20, 30]\n",
    "print(\"Duplicate integeres: \",duplicate(li))"
   ]
  },
  {
   "cell_type": "code",
   "execution_count": 41,
   "id": "91663e55",
   "metadata": {},
   "outputs": [
    {
     "name": "stdout",
     "output_type": "stream",
     "text": [
      "Key is present in the dictionary\n",
      "Key is not present in the dictionary\n"
     ]
    }
   ],
   "source": [
    "d = {1: 10, 2: 20, 3: 30, 4: 40, 5: 50, 6: 60}\n",
    "def is_key_present(x):\n",
    "  if x in d:\n",
    "      print('Key is present in the dictionary')\n",
    "  else:\n",
    "      print('Key is not present in the dictionary')\n",
    "is_key_present(5)\n",
    "is_key_present(9)"
   ]
  },
  {
   "cell_type": "code",
   "execution_count": null,
   "id": "0abea4f9",
   "metadata": {},
   "outputs": [],
   "source": []
  }
 ],
 "metadata": {
  "kernelspec": {
   "display_name": "Python 3",
   "language": "python",
   "name": "python3"
  },
  "language_info": {
   "codemirror_mode": {
    "name": "ipython",
    "version": 3
   },
   "file_extension": ".py",
   "mimetype": "text/x-python",
   "name": "python",
   "nbconvert_exporter": "python",
   "pygments_lexer": "ipython3",
   "version": "3.8.8"
  }
 },
 "nbformat": 4,
 "nbformat_minor": 5
}
